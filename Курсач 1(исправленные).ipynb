{
 "cells": [
  {
   "cell_type": "markdown",
   "metadata": {},
   "source": [
    "# Садунова Валерия\n",
    "## Группа: БСТ1901\n",
    "### Problems_1"
   ]
  },
  {
   "cell_type": "markdown",
   "metadata": {},
   "source": [
    "### Задание 1"
   ]
  },
  {
   "cell_type": "code",
   "execution_count": 16,
   "metadata": {},
   "outputs": [
    {
     "name": "stdout",
     "output_type": "stream",
     "text": [
      "5\n",
      "-1\n",
      "10\n",
      "8\n"
     ]
    }
   ],
   "source": [
    "def get_max_triangle(arr):\n",
    "    arr = sorted(arr, reverse=True)\n",
    "    for i in range(len(arr)-2):\n",
    "        a, b, c = arr[i:i+3]\n",
    "        if a < b + c:\n",
    "            return a+b+c\n",
    "    return -1\n",
    "\n",
    "\n",
    "print(get_max_triangle([2,1,2]))\n",
    "print(get_max_triangle([1,2,1]))\n",
    "print(get_max_triangle([3,2,3,4]))\n",
    "print(get_max_triangle([3,6,2,3]))"
   ]
  },
  {
   "cell_type": "markdown",
   "metadata": {},
   "source": [
    "### Задание 2"
   ]
  },
  {
   "cell_type": "code",
   "execution_count": 19,
   "metadata": {},
   "outputs": [
    {
     "data": {
      "text/plain": [
       "'9503433021'"
      ]
     },
     "execution_count": 19,
     "metadata": {},
     "output_type": "execute_result"
    }
   ],
   "source": [
    "def highestComb(L):\n",
    "    max_length = len(str(max(L)))\n",
    "    L = map(str, L)\n",
    "    def sortKey(s):\n",
    "        return s + s[-1] * (max_length - len(s))\n",
    "\n",
    "    sorted_list = sorted(L, key=sortKey, reverse=True)\n",
    "    return ''.join(sorted_list)\n",
    "\n",
    "highestComb([30, 34, 50, 9, 2, 1, 3])"
   ]
  },
  {
   "cell_type": "code",
   "execution_count": 18,
   "metadata": {},
   "outputs": [],
   "source": [
    "### Задание 3"
   ]
  },
  {
   "cell_type": "code",
   "execution_count": 31,
   "metadata": {},
   "outputs": [
    {
     "name": "stdout",
     "output_type": "stream",
     "text": [
      "Massive:\n",
      "[3, 3, 1, 1]\n",
      "[2, 2, 1, 2]\n",
      "[1, 1, 1, 2]\n",
      "\n",
      "Sorted: \n",
      "[1, 1, 1, 1]\n",
      "[1, 2, 2, 2]\n",
      "[1, 2, 3, 3]\n"
     ]
    }
   ],
   "source": [
    "def diagonalSort(M):\n",
    "    y, x = len(M), len(M[0])\n",
    "    for i in range(2-y, x-1):\n",
    "        valid = range(max(0, 0-i), min(y, x-i))\n",
    "        diag = sorted([M[j][i+j] for j in valid])\n",
    "        for k, j in enumerate(valid):\n",
    "            M[j][i+j] = diag[k]\n",
    "    return M\n",
    "\n",
    "arr = [[3,3,1,1], [2,2,1,2], [1,1,1,2]]\n",
    "print(\"Massive:\")\n",
    "for n in arr:\n",
    "    print(n)\n",
    "print(\"\\nSorted: \")\n",
    "arr = diagonalSort(arr)\n",
    "for i in arr:\n",
    "    print(i)\n",
    "\n",
    "\n"
   ]
  },
  {
   "cell_type": "code",
   "execution_count": null,
   "metadata": {},
   "outputs": [],
   "source": []
  }
 ],
 "metadata": {
  "kernelspec": {
   "display_name": "Python 3",
   "language": "python",
   "name": "python3"
  },
  "language_info": {
   "codemirror_mode": {
    "name": "ipython",
    "version": 3
   },
   "file_extension": ".py",
   "mimetype": "text/x-python",
   "name": "python",
   "nbconvert_exporter": "python",
   "pygments_lexer": "ipython3",
   "version": "3.8.8"
  }
 },
 "nbformat": 4,
 "nbformat_minor": 4
}

{
 "cells": [
  {
   "cell_type": "markdown",
   "id": "liberal-validity",
   "metadata": {},
   "source": [
    "# Лаборатораня работа №1\n",
    "## Выполнила студентка группы БСТ1901 Садунова Валерия\n",
    "### Задание 1"
   ]
  },
  {
   "cell_type": "code",
   "execution_count": 157,
   "id": "former-motion",
   "metadata": {},
   "outputs": [
    {
     "name": "stdout",
     "output_type": "stream",
     "text": [
      "Hello, World!\n"
     ]
    }
   ],
   "source": [
    "print(\"Hello, World!\")"
   ]
  },
  {
   "cell_type": "markdown",
   "id": "blank-democrat",
   "metadata": {},
   "source": [
    "### Задание 2"
   ]
  },
  {
   "cell_type": "code",
   "execution_count": 22,
   "id": "primary-unknown",
   "metadata": {
    "scrolled": true
   },
   "outputs": [],
   "source": [
    "import random\n",
    "\n",
    "def rand_matrix(m=50, n=50, min_limit=-250, max_limit=1013):\n",
    "    return[[random.randint(min_limit, max_limit) for j in range(n)] for i in range(m)]\n",
    "\n",
    "matrix = rand_matrix(m=50, n=50)"
   ]
  },
  {
   "cell_type": "markdown",
   "id": "orange-activity",
   "metadata": {},
   "source": [
    "### Задание 3"
   ]
  },
  {
   "cell_type": "code",
   "execution_count": 25,
   "id": "conscious-metropolitan",
   "metadata": {
    "scrolled": true
   },
   "outputs": [
    {
     "name": "stdout",
     "output_type": "stream",
     "text": [
      "Сортировка выбором 0.002903299999616138\n",
      "Сортировка вставкой 0.0004758999998557556\n",
      "Сортировка обменом 0.00019230000043535256\n",
      "Сортировка Шелла 6.140000004961621e-05\n",
      "Быстрая сортировка 0.0001419000000169035\n",
      "Пирамидальная сортировка 0.0001768000001902692\n",
      "Турнирная сортировка сортировка 0.0015467999996872095\n"
     ]
    }
   ],
   "source": [
    "import time\n",
    "\n",
    "def selection(data):\n",
    "    for row in data:\n",
    "        for i, e in enumerate(row):\n",
    "            mn = min(range(i, len(row)), key=row.__getitem__)\n",
    "            row[i], row[mn] = row[mn], e\n",
    "    return data\n",
    "\n",
    "start = time.perf_counter()\n",
    "selection(matrix)\n",
    "sort_time = time.perf_counter() - start\n",
    "print(f\"Сортировка выбором {sort_time}\")\n",
    "\n",
    "def insertion_sort(array):\n",
    "    for row in array:\n",
    "        for i in range(1, len(row)):\n",
    "            key = row[i]\n",
    "            j = i-1\n",
    "            while j >=0 and key < row[j] :\n",
    "                row[j+1] = row[j]\n",
    "                j -= 1\n",
    "            row[j+1] = key \n",
    "    return array\n",
    "\n",
    "start = time.perf_counter()\n",
    "insertion_sort(matrix)\n",
    "sort_time = time.perf_counter() - start\n",
    "print(f\"Сортировка вставкой {sort_time}\")\n",
    "\n",
    "def bSort(array):\n",
    "    length = len(array)\n",
    "    for i in range(length):\n",
    "        for j in range(0, length-i-1):\n",
    "            if array[j] > array[j+1]:\n",
    "                temp = array[j]\n",
    "                array[j] = array[j+1]\n",
    "                array[j+1] = temp\n",
    "    return array\n",
    "                \n",
    "start = time.perf_counter()\n",
    "bSort(matrix)\n",
    "sort_time = time.perf_counter() - start\n",
    "print(f\"Сортировка обменом {sort_time}\")\n",
    "\n",
    "def shell_sort(data):\n",
    "    last_index = len(data) - 1\n",
    "    step = len(data)//2\n",
    "    while step > 0:\n",
    "        for i in range(step, last_index + 1, 1):\n",
    "            j = i\n",
    "            delta = j - step\n",
    "            while delta >= 0 and data[delta] > data[j]:\n",
    "                data[delta], data[j] = data[j], data[delta]\n",
    "                j = delta\n",
    "                delta = j - step\n",
    "        step //= 2\n",
    "    return data\n",
    "\n",
    "start = time.perf_counter()\n",
    "shell_sort(matrix)\n",
    "sort_time = time.perf_counter() - start\n",
    "print(f\"Сортировка Шелла {sort_time}\")\n",
    "\n",
    "def quicksort(nums):\n",
    "   if len(nums) <= 1:\n",
    "       return nums\n",
    "   else:\n",
    "       q = random.choice(nums)\n",
    "       s_nums = []\n",
    "       m_nums = []\n",
    "       e_nums = []\n",
    "       for n in nums:\n",
    "           if n < q:\n",
    "               s_nums.append(n)\n",
    "           elif n > q:\n",
    "               m_nums.append(n)\n",
    "           else:\n",
    "               e_nums.append(n)\n",
    "       return quicksort(s_nums) + e_nums + quicksort(m_nums)\n",
    "\n",
    "start = time.perf_counter()\n",
    "quicksort(matrix)\n",
    "sort_time = time.perf_counter() - start\n",
    "print(f\"Быстрая сортировка {sort_time}\")\n",
    "\n",
    "def heapify(nums, heap_size, root_index):  \n",
    "    largest = root_index\n",
    "    left_child = (2 * root_index) + 1\n",
    "    right_child = (2 * root_index) + 2\n",
    "\n",
    "    if left_child < heap_size and nums[left_child] > nums[largest]:\n",
    "        largest = left_child\n",
    "\n",
    "    if right_child < heap_size and nums[right_child] > nums[largest]:\n",
    "        largest = right_child\n",
    "\n",
    "    if largest != root_index:\n",
    "        nums[root_index], nums[largest] = nums[largest], nums[root_index]\n",
    "        heapify(nums, heap_size, largest)\n",
    "\n",
    "def heap_sort(nums):  \n",
    "    n = len(nums)\n",
    "\n",
    "    for i in range(n, -1, -1):\n",
    "        heapify(nums, n, i)\n",
    "\n",
    "    for i in range(n - 1, 0, -1):\n",
    "        nums[i], nums[0] = nums[0], nums[i]\n",
    "        heapify(nums, i, 0)\n",
    "    \n",
    "start = time.perf_counter()\n",
    "heap_sort(matrix)\n",
    "sort_time = time.perf_counter() - start\n",
    "print(f\"Пирамидальная сортировка {sort_time}\")\n",
    "\n",
    "def tournament(arr):\n",
    "    tree = [None] * 2 * (len(arr) + len(arr) % 2)\n",
    "    index = len(tree) - len(arr) - len(arr) % 2\n",
    "\n",
    "    for i, v in enumerate(arr):\n",
    "        tree[index + i] = (i, v)\n",
    "\n",
    "    for j in range(len(arr)):\n",
    "        n = len(arr)\n",
    "        index = len(tree) - len(arr) - len(arr) % 2\n",
    "        while index > -1:\n",
    "            n = (n + 1) // 2\n",
    "            for i in range(n):\n",
    "                i = max(index + i * 2, 1)  # на последней итерация index + i * 2 = 0\n",
    "                if tree[i] != None and tree[i + 1] != None:\n",
    "                    if tree[i][1] < tree[i + 1][1]:\n",
    "                        tree[i // 2] = tree[i]\n",
    "                    else:\n",
    "                        tree[i // 2] = tree[i + 1]\n",
    "                else:\n",
    "                    tree[i // 2] = tree[i] if tree[i] != None else tree[i + 1]\n",
    "            index -= n\n",
    "\n",
    "        index, x = tree[0]\n",
    "        arr[j] = x\n",
    "        tree[len(tree) - len(arr) - len(arr) % 2 + index] = None\n",
    "        \n",
    "start = time.perf_counter()\n",
    "tournament(matrix)\n",
    "sort_time = time.perf_counter() - start\n",
    "print(f\"Турнирная сортировка сортировка {sort_time}\")\n"
   ]
  }
 ],
 "metadata": {
  "kernelspec": {
   "display_name": "Python 3",
   "language": "python",
   "name": "python3"
  },
  "language_info": {
   "codemirror_mode": {
    "name": "ipython",
    "version": 3
   },
   "file_extension": ".py",
   "mimetype": "text/x-python",
   "name": "python",
   "nbconvert_exporter": "python",
   "pygments_lexer": "ipython3",
   "version": "3.8.8"
  }
 },
 "nbformat": 4,
 "nbformat_minor": 5
}
